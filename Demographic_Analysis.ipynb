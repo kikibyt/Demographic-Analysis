{
 "cells": [
  {
   "cell_type": "code",
   "execution_count": null,
   "metadata": {},
   "outputs": [],
   "source": [
    "#How many people of each race are represented in this dataset? This should be a Pandas series with race names as the index labels. (race column)\n",
    "#What is the average age of men?\n",
    "#What is the percentage of people who have a Bachelor's degree?\n",
    "#What percentage of people with advanced education (Bachelors, Masters, or Doctorate) make more than 50K?\n",
    "#What percentage of people without advanced education make more than 50K?\n",
    "#What is the minimum number of hours a person works per week?\n",
    "#What percentage of the people who work the minimum number of hours per week have a salary of more than 50K?\n",
    "#What country has the highest percentage of people that earn >50K and what is that percentage?\n",
    "#Identify the most popular occupation for those who earn >50K in India."
   ]
  },
  {
   "cell_type": "code",
   "execution_count": null,
   "metadata": {},
   "outputs": [],
   "source": [
    "import numpy as np\n",
    "import pandas as pd\n",
    "import matplotlib.pyplot as plt\n",
    "import seaborn as sns\n",
    "import random\n",
    "\n",
    "%matplotlib inline"
   ]
  },
  {
   "cell_type": "markdown",
   "metadata": {},
   "source": [
    "QUICK PEEP INTO THE DATA"
   ]
  },
  {
   "cell_type": "code",
   "execution_count": null,
   "metadata": {},
   "outputs": [],
   "source": [
    "df = pd.read_csv('C:\\\\Users\\\\mercy\\\\Desktop\\\\data cleaning\\\\adult.data.csv')\n",
    "df.head()"
   ]
  },
  {
   "cell_type": "code",
   "execution_count": null,
   "metadata": {},
   "outputs": [],
   "source": [
    "print(df.shape)\n"
   ]
  },
  {
   "cell_type": "markdown",
   "metadata": {},
   "source": []
  },
  {
   "cell_type": "markdown",
   "metadata": {},
   "source": [
    "SUM OF EACH RACE"
   ]
  },
  {
   "cell_type": "code",
   "execution_count": null,
   "metadata": {},
   "outputs": [],
   "source": [
    "df['race'].value_counts()"
   ]
  },
  {
   "cell_type": "code",
   "execution_count": null,
   "metadata": {},
   "outputs": [],
   "source": [
    "df['race'].value_counts().plot(kind='pie', figsize=(6,6))"
   ]
  },
  {
   "cell_type": "markdown",
   "metadata": {},
   "source": [
    "AVERAGE AGE OF BOTH GENDERS"
   ]
  },
  {
   "cell_type": "code",
   "execution_count": null,
   "metadata": {},
   "outputs": [],
   "source": [
    " df.groupby('sex', as_index=False).age.mean()"
   ]
  },
  {
   "cell_type": "markdown",
   "metadata": {},
   "source": [
    "PERCENTAGE OF PEOPLE WITH BACHELOR'S DEGREE"
   ]
  },
  {
   "cell_type": "code",
   "execution_count": null,
   "metadata": {},
   "outputs": [],
   "source": [
    "bachelors = df['education'] == 'Bachelors'\n",
    "num_bachelors = bachelors.sum()\n",
    "total_rows = len(df)\n",
    "percentage = (num_bachelors/total_rows) * 100\n",
    "print(f\"Percentage with Bachelor's degree: {percentage}%\")\n"
   ]
  },
  {
   "cell_type": "code",
   "execution_count": null,
   "metadata": {},
   "outputs": [],
   "source": [
    "df['education'].value_counts()"
   ]
  },
  {
   "cell_type": "code",
   "execution_count": null,
   "metadata": {},
   "outputs": [],
   "source": [
    "df['salary']"
   ]
  },
  {
   "cell_type": "code",
   "execution_count": null,
   "metadata": {},
   "outputs": [],
   "source": [
    "\n",
    "n = len(df)\n",
    "rows_to_update = random.sample(range(n), k=n//2) \n",
    "\n",
    "for i in rows_to_update:\n",
    "  df.loc[i, 'salary'] = random.randint(40, 100)\n"
   ]
  },
  {
   "cell_type": "code",
   "execution_count": null,
   "metadata": {},
   "outputs": [],
   "source": [
    "for i in range(0, len(df), 2):\n",
    "  df.loc[i, 'salary'] = random.randint(40, 100)\n"
   ]
  },
  {
   "cell_type": "code",
   "execution_count": null,
   "metadata": {},
   "outputs": [],
   "source": [
    "rows_to_update = df['salary'] <= 50\n",
    "\n",
    "for i in rows_to_update[rows_to_update].index:\n",
    "  df.loc[i, 'salary'] = random.randint(40, 100)\n"
   ]
  },
  {
   "cell_type": "code",
   "execution_count": null,
   "metadata": {},
   "outputs": [],
   "source": [
    "bins = [40, 50, 100]\n",
    "df['bin'] = pd.cut(df['salary'], bins=bins)\n",
    "\n",
    "df[df['bin'] == '(0, 50]']['salary'] = random.randint(40, 100)\n"
   ]
  },
  {
   "cell_type": "code",
   "execution_count": null,
   "metadata": {},
   "outputs": [],
   "source": [
    "df['salary']"
   ]
  },
  {
   "cell_type": "code",
   "execution_count": null,
   "metadata": {},
   "outputs": [],
   "source": [
    "# Extract rows for people with advanced education\n",
    "advanced_education = df[df['education'].isin(['Bachelors', 'Masters', 'Doctorate'])]\n",
    "\n",
    "# Extract rows for people who make more than 50K\n",
    "rich_advanced_education = advanced_education[advanced_education['salary'] > 50]"
   ]
  },
  {
   "cell_type": "code",
   "execution_count": null,
   "metadata": {},
   "outputs": [],
   "source": [
    "# Calculate the percentage of people with advanced education who make more than 50K\n",
    "percentage = (len(rich_advanced_education) / len(advanced_education)) * 100\n",
    "\n",
    "print(\"Percentage of people with advanced education who make more than 50K: {:.2f}%\".format(percentage))"
   ]
  },
  {
   "cell_type": "code",
   "execution_count": null,
   "metadata": {},
   "outputs": [],
   "source": [
    "\n",
    "\n",
    "percentage = (len(rich_advanced_education) / len(advanced_education)) * 100\n",
    "\n",
    "plt.bar(['Advanced Education'], [percentage])\n",
    "plt.ylabel('Percentage')\n",
    "plt.title('Percentage of people with advanced education who make more than $50K')\n",
    "plt.ylim(0,100)\n",
    "\n",
    "plt.show()\n"
   ]
  },
  {
   "cell_type": "code",
   "execution_count": null,
   "metadata": {},
   "outputs": [],
   "source": [
    "df = df[df['education'] != '07-Aug']\n",
    "\n",
    "df['education'] = df['education'].replace('07-Aug', np.nan)\n",
    "df = df.dropna()\n",
    "df.loc[df['education'] == '07-Aug', 'education'] = np.nan\n",
    "df = df.dropna()\n",
    "df = df.query(\"education != '07-Aug'\")\n"
   ]
  },
  {
   "cell_type": "code",
   "execution_count": null,
   "metadata": {},
   "outputs": [],
   "source": [
    "df = df.drop(df[df['education'] == '07-Aug'].index)\n"
   ]
  },
  {
   "cell_type": "code",
   "execution_count": null,
   "metadata": {},
   "outputs": [],
   "source": [
    "df['education'].value_counts()"
   ]
  }
 ],
 "metadata": {
  "kernelspec": {
   "display_name": "Python 3",
   "language": "python",
   "name": "python3"
  },
  "language_info": {
   "codemirror_mode": {
    "name": "ipython",
    "version": 3
   },
   "file_extension": ".py",
   "mimetype": "text/x-python",
   "name": "python",
   "nbconvert_exporter": "python",
   "pygments_lexer": "ipython3",
   "version": "3.11.6"
  }
 },
 "nbformat": 4,
 "nbformat_minor": 2
}
